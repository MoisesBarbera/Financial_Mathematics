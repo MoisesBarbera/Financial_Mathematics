{
 "cells": [
  {
   "cell_type": "markdown",
   "metadata": {},
   "source": [
    "MOISES BARBERA RAMOS - 08/03/2020\n",
    "\n",
    "https://www.linkedin.com/in/moises-barbera-ramos-8a3848164/\n",
    "\n",
    "https://github.com/MoisesBarbera"
   ]
  },
  {
   "cell_type": "markdown",
   "metadata": {},
   "source": [
    "# Black-Scholes Formula Calculator\n",
    "\n",
    "\n",
    "## Insights\n",
    "\n",
    "- Black Scholes model, or Black-Scholes-Merton (BSM) model, is a differential equation used to solve for options prices.\n",
    "\n",
    "- The model won the Nobel prize in economics.\n",
    "\n",
    "- The standard BSM model is only used to price European options and does not take into account that U.S. options could be exercised before the expiration date.\n",
    "\n",
    "#### On the authors words - \"stock price follows a random walk in continuous time\"\n",
    "\n",
    "The formula, published in a paper by Black and Scholes in 1973, assumes that stocks moved in random walks, in other words, stocks are assumed to move in anti zigzag patterns just like pollen particles observed by Brown in 1827. \n",
    "\n",
    "    (Here I refer to the discovery made by the Scottish Botanist Rober Brown in 1827 who, after studying a species of pollen, called pinkfaires, through the lens of a microscope and observing the incessantly jiggle, concluded that this phenomenon was completely and misteriously random. Discovery related to the market prices by Louis Bachelier from the University of Paris in 1900.)\n",
    "        \n",
    "The formula allows investors to to determine the relevant probabilities for volatility - how high or low a stock or option would move in a certain time frame."
   ]
  },
  {
   "cell_type": "markdown",
   "metadata": {},
   "source": [
    "#### This Model assumes:\n",
    "- Vanilla European Options\n",
    "- Options exercised at maturity (expiration)\n",
    "- Market movement cannot be predicted\n",
    "- Risk-free rate and volatility are constant\n",
    "- Lognormal distribution"
   ]
  },
  {
   "cell_type": "markdown",
   "metadata": {},
   "source": [
    "# Theory of the Formula\n",
    "\n",
    "#### Black Scholes Call Formula:\n",
    "\n",
    "\n",
    "    C(S,t) = SN(d1) − Ke^[−r(T−t)] * N(d2)\n",
    "    \n",
    "    \n",
    "#### Black Scholes Put Formula:\n",
    "\n",
    "\n",
    "    P(S,t) = Ke^[−r(T−t)] * N(−d2) − SN(−d1)\n",
    "    \n",
    "##### Where\n",
    "\n",
    "    d1 = (ln(S / K) + (r + (σ ** 2) / 2) * T) / (σ * √(T))\n",
    "\n",
    "    d2 = d1 − σ * √(T - t)"
   ]
  },
  {
   "cell_type": "markdown",
   "metadata": {},
   "source": [
    "## Calculation of Black-Scholes Formula for non-dividend paying options"
   ]
  },
  {
   "cell_type": "code",
   "execution_count": 1,
   "metadata": {},
   "outputs": [],
   "source": [
    "import numpy as np\n",
    "import scipy.stats as si"
   ]
  },
  {
   "cell_type": "code",
   "execution_count": 2,
   "metadata": {},
   "outputs": [],
   "source": [
    "def option_price(S, K, r, T, sigma, option = 'type_') :\n",
    "    \n",
    "    # S = Current (or underlying) stock price\n",
    "    # K = Strike price / Exercise Price\n",
    "    # r = Risk-free interest rate\n",
    "    # T = Time to maturity (expiration)\n",
    "    # sigma = Standard deviation of log returns (Volatility)\n",
    "    # option = Type of option price analysing. Accepts (call or put)\n",
    "    \n",
    "    # Part d1 of Black-Scholes formula\n",
    "    d1 = (np.log(S / K) + (r + 0.5 * sigma ** 2) * T) / (sigma * np.sqrt(T))\n",
    "    \n",
    "    # Part d2 of Black-Scholes formula\n",
    "    d2 = (np.log(S / K) + (r - 0.5 * sigma ** 2) * T) / (sigma * np.sqrt(T))\n",
    "    \n",
    "    # Implementation of Black-Scholes formula for call and put option prices\n",
    "    if option == 'call':\n",
    "        price = (S * si.norm.cdf(d1, 0.0, 1.0) - K * np.exp(-r * T) * si.norm.cdf(d2, 0.0, 1.0))  # si.norm is the normal distribution (N) component of the formula\n",
    "    elif option == 'put':\n",
    "        price = (K * np.exp(-r * T) * si.norm.cdf(-d2, 0.0, 1.0) - S * si.norm.cdf(-d1, 0.0, 1.0))  # si.norm is the normal distribution (N) component of the formula\n",
    "    else:\n",
    "        price = print(\"The option selected is not accepted, try selecting call or put\")\n",
    "    return price"
   ]
  },
  {
   "cell_type": "code",
   "execution_count": 3,
   "metadata": {},
   "outputs": [
    {
     "name": "stdout",
     "output_type": "stream",
     "text": [
      "Introduce the value of the underlying stock price:                         50\n",
      "Introduce the value of the strike price:                                   100\n",
      "Introduce the value of the risk-free interest rate:                        0.05\n",
      "Introduce the value of the time to maturity:                               1\n",
      "Introduce the value of the volatility:                                     0.25\n",
      "Introduce the value of the option price to calculate [accepted put or call]: call\n"
     ]
    }
   ],
   "source": [
    "# We use float to identify that the input from the user is a number which can be an integer or a decimal.\n",
    "S = float(input(\"Introduce the value of the underlying stock price:                         \" ))\n",
    "K = float(input(\"Introduce the value of the strike price:                                   \" ))\n",
    "r = float(input(\"Introduce the value of the risk-free interest rate:                        \" ))\n",
    "T = float(input(\"Introduce the value of the time to maturity:                               \" ))\n",
    "sigma = float(input(\"Introduce the value of the volatility:                                     \" ))\n",
    "# No need to specify the identity of the input. Input always considers the inpus from the user as a string\n",
    "type_ = input(\"Introduce the value of the option price to calculate [accepted put or call]: \" )"
   ]
  },
  {
   "cell_type": "code",
   "execution_count": 4,
   "metadata": {},
   "outputs": [
    {
     "data": {
      "text/plain": [
       "0.027352509369436617"
      ]
     },
     "execution_count": 4,
     "metadata": {},
     "output_type": "execute_result"
    }
   ],
   "source": [
    "option_price(S, K, r, T, sigma, option = type_)"
   ]
  },
  {
   "cell_type": "code",
   "execution_count": 5,
   "metadata": {},
   "outputs": [],
   "source": [
    "# Example: option_price(50, 100, 0.05, 1, 0.25, option = 'call')"
   ]
  },
  {
   "cell_type": "code",
   "execution_count": null,
   "metadata": {},
   "outputs": [],
   "source": []
  },
  {
   "cell_type": "markdown",
   "metadata": {},
   "source": [
    "# Updated Formula for Dividend Paying Options\n",
    "\n",
    "*Introduces the parametre q - dividend rate of the asset - to the equation*\n",
    "\n",
    "#### Black-Scholes Call Formula:\n",
    "\n",
    "\n",
    "    C(S,t) = Se^[-q(T-t)] * N(d1) − Ke^[−r(T−t)] * N(d2)\n",
    "    \n",
    "    \n",
    "#### Black-Scholes Put Formula:\n",
    "\n",
    "\n",
    "    P(S,t) = Ke^[−r(T−t)] * N(−d2) − Se^[-q(T-t)] * N(−d1)\n",
    "    \n",
    "##### Where\n",
    "\n",
    "    d1 = (ln(S / K) + (r - q + (σ ** 2) / 2) * (T - t)) / (σ * √(T - t))\n",
    "\n",
    "    d2 = d1 − σ * √(T - t)"
   ]
  },
  {
   "cell_type": "code",
   "execution_count": null,
   "metadata": {},
   "outputs": [],
   "source": []
  },
  {
   "cell_type": "markdown",
   "metadata": {},
   "source": [
    "## Calculation of Black-Scholes Formula for dividend paying options"
   ]
  },
  {
   "cell_type": "code",
   "execution_count": null,
   "metadata": {},
   "outputs": [],
   "source": [
    "def option_price_dividend(S, K, r, T, q, sigma, option = 'type_') :\n",
    "    \n",
    "    # S = Current (or underlying) stock price\n",
    "    # K = Strike price / Exercise Price\n",
    "    # r = Risk-free interest rate\n",
    "    # T = Time to maturity (expiration)\n",
    "    # q = rate of continuous dividend paying asset\n",
    "    # sigma = Standard deviation of log returns (Volatility)\n",
    "    # option = Type of option price analysing. Accepts (call or put)\n",
    "    \n",
    "    # Part d1 of Black-Scholes formula\n",
    "    d1 = (np.log(S / K) + (r + 0.5 * sigma ** 2) * T) / (sigma * np.sqrt(T))\n",
    "    \n",
    "    # Part d2 of Black-Scholes formula\n",
    "    d2 = (np.log(S / K) + (r - 0.5 * sigma ** 2) * T) / (sigma * np.sqrt(T))\n",
    "    \n",
    "    # Implementation of Black-Scholes formula for call and put option prices\n",
    "    if option == 'call':\n",
    "        price = (S * np.exp(-q * T) * si.norm.cdf(d1, 0.0, 1.0) - K * np.exp(-r * T) * si.norm.cdf(d2, 0.0, 1.0))  # si.norm is the normal distribution (N) component of the formula\n",
    "    elif option == 'put':\n",
    "        price = (K * np.exp(-r * T) * si.norm.cdf(-d2, 0.0, 1.0) - S * np.exp(-q * T) * si.norm.cdf(-d1, 0.0, 1.0))  # si.norm is the normal distribution (N) component of the formula\n",
    "    else:\n",
    "        return print(\"The option selected is not accepted, try selecting call or put\")\n",
    "    return price"
   ]
  },
  {
   "cell_type": "code",
   "execution_count": null,
   "metadata": {},
   "outputs": [
    {
     "name": "stdout",
     "output_type": "stream",
     "text": [
      "Introduce the value of the underlying stock price:                         \n",
      "Introduce the value of the strike price:                                   \n",
      "Introduce the value of the risk-free interest rate:                        \n",
      "Introduce the value of the time to maturity:                               \n",
      "Introduce the value of the rate of continuous dividend paying asset:       \n",
      "Introduce the value of the volatility:                                     \n"
     ]
    }
   ],
   "source": [
    "# We use float to identify that the input from the user is a number which can be an integer or a decimal.\n",
    "S = float(input(\"Introduce the value of the underlying stock price:                         \" ))\n",
    "K = float(input(\"Introduce the value of the strike price:                                   \" ))\n",
    "r = float(input(\"Introduce the value of the risk-free interest rate:                        \" ))\n",
    "T = float(input(\"Introduce the value of the time to maturity:                               \" ))\n",
    "q = float(input(\"Introduce the value of the rate of continuous dividend paying asset:       \" ))\n",
    "sigma = float(input(\"Introduce the value of the volatility:                                     \" ))\n",
    "# No need to specify the identity of the input. Input always considers the inpus from the user as a string\n",
    "type_ = input(\"Introduce the value of the option price to calculate [accepted put or call]: \" )"
   ]
  },
  {
   "cell_type": "code",
   "execution_count": null,
   "metadata": {},
   "outputs": [],
   "source": [
    "option_price_dividend(S, K, r, T, q, sigma, option = type_)"
   ]
  },
  {
   "cell_type": "code",
   "execution_count": null,
   "metadata": {},
   "outputs": [],
   "source": []
  },
  {
   "cell_type": "markdown",
   "metadata": {},
   "source": [
    "# References\n",
    "\n",
    "#### Vigirdas Mackevicius (2016) - Stochastic Models for Financial Mathematics.  ISTE Press - Elsevier\n",
    "\n",
    "#### Scott Patterson (2010) - The Quants. Crown Business\n",
    "\n",
    "#### Sherbin, A. (2015). How to price and trade options: identify, analyze, and execute the best trade probabilities. Hoboken, NJ: John Wiley & Sons, Inc.\n",
    "\n",
    "#### Ursone, P. (2015). How to calculate options prices and their Greeks: exploring the Black Scholes model from Delta to Vega. Chichester: Wiley.\n",
    "\n",
    "#### https://www.investopedia.com/terms/b/blackscholes.asp\n",
    "\n",
    "#### Inspiration for the Python Implementation from aaronscholegel.me\n",
    "- I fixed bugs, optimized code and allowed user interaction"
   ]
  },
  {
   "cell_type": "code",
   "execution_count": null,
   "metadata": {},
   "outputs": [],
   "source": []
  }
 ],
 "metadata": {
  "kernelspec": {
   "display_name": "Python 3",
   "language": "python",
   "name": "python3"
  },
  "language_info": {
   "codemirror_mode": {
    "name": "ipython",
    "version": 3
   },
   "file_extension": ".py",
   "mimetype": "text/x-python",
   "name": "python",
   "nbconvert_exporter": "python",
   "pygments_lexer": "ipython3",
   "version": "3.5.2"
  }
 },
 "nbformat": 4,
 "nbformat_minor": 2
}
